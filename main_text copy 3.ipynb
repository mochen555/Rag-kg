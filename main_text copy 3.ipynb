{
 "cells": [
  {
   "cell_type": "code",
   "execution_count": 6,
   "id": "c56760e8",
   "metadata": {},
   "outputs": [],
   "source": [
    "from text_processor import TextProcessor\n",
    "from kg_processor import create_kg, create_map, merge_map\n",
    "from visualization import generate_html\n",
    "from config import FILE_PATHS\n",
    "from text_processor import TextProcessor\n",
    "from kg_processor import create_kg, create_map, merge_map\n",
    "\n",
    "import argparse\n",
    "def process(input_file):\n",
    "    output_file = input_file.replace('.md', '.html')\n",
    "    processor = TextProcessor()\n",
    "    processor.parse_file(input_file)\n",
    "    kg = create_kg()\n",
    "    create_map(processor.root,kg)\n",
    "    merge_map(processor.root,kg)\n",
    "    generate_html(processor.root, output_file)\n"
   ]
  },
  {
   "cell_type": "code",
   "execution_count": 7,
   "id": "e320c06f",
   "metadata": {},
   "outputs": [
    {
     "name": "stderr",
     "output_type": "stream",
     "text": [
      "2025/06/24 13:04:24 WARNING dspy.adapters.json_adapter: Failed to use structured output format, falling back to JSON mode.\n"
     ]
    },
    {
     "name": "stderr",
     "output_type": "stream",
     "text": [
      "2025/06/24 13:04:24 WARNING dspy.adapters.json_adapter: Failed to use structured output format, falling back to JSON mode.\n",
      "2025/06/24 13:04:24 WARNING dspy.adapters.json_adapter: Failed to use structured output format, falling back to JSON mode.\n",
      "2025/06/24 13:04:24 WARNING dspy.adapters.json_adapter: Failed to use structured output format, falling back to JSON mode.\n",
      "2025/06/24 13:04:24 WARNING dspy.adapters.json_adapter: Failed to use structured output format, falling back to JSON mode.\n",
      "2025/06/24 13:04:24 WARNING dspy.adapters.json_adapter: Failed to use structured output format, falling back to JSON mode.\n",
      "2025/06/24 13:04:24 WARNING dspy.adapters.json_adapter: Failed to use structured output format, falling back to JSON mode.\n",
      "2025/06/24 13:04:24 WARNING dspy.adapters.json_adapter: Failed to use structured output format, falling back to JSON mode.\n",
      "2025/06/24 13:04:24 WARNING dspy.adapters.json_adapter: Failed to use structured output format, falling back to JSON mode.\n",
      "2025/06/24 13:04:24 WARNING dspy.adapters.json_adapter: Failed to use structured output format, falling back to JSON mode.\n",
      "2025/06/24 13:04:24 WARNING dspy.adapters.json_adapter: Failed to use structured output format, falling back to JSON mode.\n",
      "2025/06/24 13:04:24 WARNING dspy.adapters.json_adapter: Failed to use structured output format, falling back to JSON mode.\n"
     ]
    }
   ],
   "source": [
    "process(\"passage copy/俄乌冲突下欧盟能源政策新变..._从自由市场主义到现实主义_杨雪峥.md\")"
   ]
  }
 ],
 "metadata": {
  "kernelspec": {
   "display_name": "kg_new",
   "language": "python",
   "name": "python3"
  },
  "language_info": {
   "codemirror_mode": {
    "name": "ipython",
    "version": 3
   },
   "file_extension": ".py",
   "mimetype": "text/x-python",
   "name": "python",
   "nbconvert_exporter": "python",
   "pygments_lexer": "ipython3",
   "version": "undefined.undefined.undefined"
  }
 },
 "nbformat": 4,
 "nbformat_minor": 5
}
