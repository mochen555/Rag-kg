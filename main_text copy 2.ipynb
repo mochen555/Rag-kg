{
 "cells": [
  {
   "cell_type": "code",
   "execution_count": 4,
   "id": "c56760e8",
   "metadata": {},
   "outputs": [],
   "source": [
    "from text_processor import TextProcessor\n",
    "from kg_processor import create_kg, create_map, merge_map\n",
    "from visualization import generate_html\n",
    "from config import FILE_PATHS\n",
    "from text_processor import TextProcessor\n",
    "from kg_processor import create_kg, create_map, merge_map\n",
    "\n",
    "import argparse\n",
    "input_file=\"passage copy/new2.md\"\n",
    "output_file = input_file.replace('.md', '.html')\n",
    "processor = TextProcessor()\n",
    "processor.parse_file(input_file)\n"
   ]
  },
  {
   "cell_type": "code",
   "execution_count": 5,
   "id": "4ddc9519",
   "metadata": {},
   "outputs": [
    {
     "name": "stderr",
     "output_type": "stream",
     "text": [
      "2025/06/24 22:04:44 WARNING dspy.adapters.json_adapter: Failed to use structured output format, falling back to JSON mode.\n",
      "2025/06/24 22:04:44 WARNING dspy.adapters.json_adapter: Failed to use structured output format, falling back to JSON mode.\n",
      "2025/06/24 22:04:44 WARNING dspy.adapters.json_adapter: Failed to use structured output format, falling back to JSON mode.\n",
      "2025/06/24 22:04:44 WARNING dspy.adapters.json_adapter: Failed to use structured output format, falling back to JSON mode.\n",
      "2025/06/24 22:04:44 WARNING dspy.adapters.json_adapter: Failed to use structured output format, falling back to JSON mode.\n",
      "2025/06/24 22:04:44 WARNING dspy.adapters.json_adapter: Failed to use structured output format, falling back to JSON mode.\n",
      "2025/06/24 22:04:44 WARNING dspy.adapters.json_adapter: Failed to use structured output format, falling back to JSON mode.\n",
      "2025/06/24 22:04:44 WARNING dspy.adapters.json_adapter: Failed to use structured output format, falling back to JSON mode.\n",
      "2025/06/24 22:04:44 WARNING dspy.adapters.json_adapter: Failed to use structured output format, falling back to JSON mode.\n",
      "2025/06/24 22:04:44 WARNING dspy.adapters.json_adapter: Failed to use structured output format, falling back to JSON mode.\n",
      "2025/06/24 22:05:46 WARNING dspy.adapters.json_adapter: Failed to use structured output format, falling back to JSON mode.\n",
      "2025/06/24 22:05:46 WARNING dspy.adapters.json_adapter: Failed to use structured output format, falling back to JSON mode.\n",
      "2025/06/24 22:05:46 WARNING dspy.adapters.json_adapter: Failed to use structured output format, falling back to JSON mode.\n",
      "2025/06/24 22:05:46 WARNING dspy.adapters.json_adapter: Failed to use structured output format, falling back to JSON mode.\n",
      "2025/06/24 22:05:46 WARNING dspy.adapters.json_adapter: Failed to use structured output format, falling back to JSON mode.\n",
      "2025/06/24 22:05:46 WARNING dspy.adapters.json_adapter: Failed to use structured output format, falling back to JSON mode.\n",
      "2025/06/24 22:05:46 WARNING dspy.adapters.json_adapter: Failed to use structured output format, falling back to JSON mode.\n",
      "2025/06/24 22:06:45 WARNING dspy.adapters.json_adapter: Failed to use structured output format, falling back to JSON mode.\n"
     ]
    }
   ],
   "source": [
    "kg = create_kg()\n",
    "create_map(processor.root,kg)\n",
    "merge_map(processor.root,kg)\n"
   ]
  },
  {
   "cell_type": "code",
   "execution_count": 9,
   "id": "0d497a4e",
   "metadata": {},
   "outputs": [],
   "source": [
    "processor.root.to_json(\"new.json\")"
   ]
  },
  {
   "cell_type": "code",
   "execution_count": 10,
   "id": "005047b5",
   "metadata": {},
   "outputs": [],
   "source": [
    "generate_html(processor.root, output_file)\n"
   ]
  },
  {
   "cell_type": "code",
   "execution_count": null,
   "id": "6c02822d",
   "metadata": {},
   "outputs": [
    {
     "name": "stderr",
     "output_type": "stream",
     "text": [
      "2025/06/24 12:23:21 WARNING dspy.adapters.json_adapter: Failed to use structured output format, falling back to JSON mode.\n",
      "2025/06/24 12:26:18 WARNING dspy.adapters.json_adapter: Failed to use structured output format, falling back to JSON mode.\n",
      "2025/06/24 12:28:57 WARNING dspy.adapters.json_adapter: Failed to use structured output format, falling back to JSON mode.\n",
      "2025/06/24 12:31:07 WARNING dspy.adapters.json_adapter: Failed to use structured output format, falling back to JSON mode.\n",
      "2025/06/24 12:33:08 WARNING dspy.adapters.json_adapter: Failed to use structured output format, falling back to JSON mode.\n",
      "2025/06/24 12:37:56 WARNING dspy.adapters.json_adapter: Failed to use structured output format, falling back to JSON mode.\n",
      "2025/06/24 12:39:06 WARNING dspy.adapters.json_adapter: Failed to use structured output format, falling back to JSON mode.\n",
      "2025/06/24 12:41:28 WARNING dspy.adapters.json_adapter: Failed to use structured output format, falling back to JSON mode.\n",
      "2025/06/24 12:43:46 WARNING dspy.adapters.json_adapter: Failed to use structured output format, falling back to JSON mode.\n"
     ]
    }
   ],
   "source": [
    "process(\"passage copy/俄乌冲突对国际经贸格局的影响_易小准__.md\")"
   ]
  }
 ],
 "metadata": {
  "kernelspec": {
   "display_name": "kg_new",
   "language": "python",
   "name": "python3"
  },
  "language_info": {
   "codemirror_mode": {
    "name": "ipython",
    "version": 3
   },
   "file_extension": ".py",
   "mimetype": "text/x-python",
   "name": "python",
   "nbconvert_exporter": "python",
   "pygments_lexer": "ipython3",
   "version": "3.10.18"
  }
 },
 "nbformat": 4,
 "nbformat_minor": 5
}
