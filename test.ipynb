{
 "cells": [
  {
   "cell_type": "code",
   "execution_count": null,
   "id": "7fb5ad7b",
   "metadata": {},
   "outputs": [],
   "source": []
  },
  {
   "cell_type": "code",
   "execution_count": null,
   "id": "24fe30ab",
   "metadata": {},
   "outputs": [],
   "source": [
    "class\n",
    "    \n",
    "    def\n",
    "\n",
    "\n",
    "\n",
    "    \"\"\"面向对象\"\"\""
   ]
  }
 ],
 "metadata": {
  "language_info": {
   "name": "python"
  }
 },
 "nbformat": 4,
 "nbformat_minor": 5
}
